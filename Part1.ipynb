{
 "cells": [
  {
   "cell_type": "code",
   "execution_count": 5,
   "metadata": {},
   "outputs": [],
   "source": [
    "import numpy as np\n",
    "import pandas as pd\n",
    "# 시각화\n",
    "import matplotlib.pyplot as plt\n",
    "import seaborn as sns\n",
    "import folium\n",
    "\n",
    "###### 한글 깨지는 것 막기\n",
    "import matplotlib.font_manager as fm\n",
    "# 폰트 이름 뽑기\n",
    "font_name=fm.FontProperties(fname=\"C:/Windows/Fonts/malgun.ttf\").get_name()\n",
    "plt.rc(\"font\", family=font_name)\n",
    "\n",
    "import matplotlib as mlp\n",
    "mlp.rcParams[\"axes.unicode_minus\"]=False\n",
    "\n",
    "\n",
    "# 플롯 스타일 \n",
    "#plt.style.use(\"fivethirtyeight\")\n",
    "\n",
    "# 크롤링\n",
    "# BeautifulSoup\n",
    "from bs4 import BeautifulSoup\n",
    "# urllib\n",
    "import urllib.request as req\n",
    "from urllib.request import urlopen\n",
    "from urllib.error import HTTPError, URLError\n",
    "import urllib.parse\n",
    "# Selenium 웹드라이버\n",
    "from selenium import webdriver\n",
    "import requests\n",
    "\n",
    "# 에러 경고 안뜨게 하기\n",
    "import warnings\n",
    "warnings.filterwarnings(\"ignore\")\n",
    "\n",
    "from tqdm import tqdm_notebook\n",
    "\n",
    "#중간중간 1초 정도 간격을 두고 다운로드 받도록 설정\n",
    "import time\n",
    "\n",
    "# pip install mglearn\n",
    "import mglearn\n",
    "\n",
    "# scikit-learn 샘플\n",
    "from sklearn.datasets import load_breast_cancer, load_boston, make_blobs, load_iris, load_digits\n",
    "from sklearn.datasets import make_classification, make_moons, load_wine, load_diabetes\n",
    "\n",
    "\n",
    "# KNN\n",
    "from sklearn.neighbors import KNeighborsRegressor, KNeighborsClassifier\n",
    "\n",
    "# 선형모델 알고리즘\n",
    "from sklearn.linear_model import LinearRegression, Ridge, Lasso, LogisticRegression\n",
    "\n",
    "# SVM 알고리즘\n",
    "from sklearn.svm import LinearSVC, SVR, SVC\n",
    "\n",
    "###########################################################################################\n",
    "# 훈련용 데이터와 테스트용 데이터를 알아서 분류해주는 라이브러리\n",
    "from sklearn.model_selection import train_test_split\n",
    "# Cross Validation KFold \n",
    "from sklearn.model_selection import KFold\n",
    "# 계층화\n",
    "from sklearn.model_selection import StratifiedKFold\n",
    "# 교차 검증 함수\n",
    "from sklearn.model_selection import cross_val_score, cross_validate\n",
    "# 교차 검증 및 하이퍼 파라미터 튜닝 함수\n",
    "from sklearn.model_selection import GridSearchCV\n",
    "#############################################################################################\n",
    "\n",
    "# 예측값이 얼만큼 맞았는가 확인해주는 함수\n",
    "from sklearn.metrics import accuracy_score, confusion_matrix, precision_score, recall_score, classification_report, roc_curve\n",
    "\n",
    "from sklearn.base import BaseEstimator\n",
    "\n",
    "from numpy import linalg\n",
    "\n",
    "# 레이블 인코딩(더미변수), 원-핫 인코더\n",
    "from sklearn.preprocessing import LabelEncoder\n",
    "from sklearn.preprocessing import OneHotEncoder\n",
    "\n",
    "# 표준화, 정규화\n",
    "from sklearn.preprocessing import StandardScaler\n",
    "from sklearn.preprocessing import MinMaxScaler\n",
    "\n",
    "# feature_extraction \n",
    "from sklearn.feature_extraction.text import CountVectorizer \n",
    "\n",
    "################################################################################################\n",
    "#의사결정 나무\n",
    "from sklearn.tree import DecisionTreeClassifier\n",
    "# Random Forest Classifier\n",
    "from sklearn.ensemble import RandomForestClassifier\n",
    "# 경사하강법\n",
    "from sklearn.ensemble import GradientBoostingClassifier\n",
    "# Voting Classifier\n",
    "from sklearn.ensemble import  VotingClassifier\n",
    "#################################################################################################\n",
    "\n",
    "#################################################################################################\n",
    "# NaiveBayes\n",
    "from sklearn.naive_bayes import GaussianNB, BernoulliNB, MultinomialNB\n",
    "#################################################################################################\n",
    "\n",
    "#################################################################################################\n",
    "# Clustering\n",
    "from sklearn.cluster import KMeans\n",
    "#################################################################################################\n",
    "\n",
    "#################################################################################################\n",
    "# Perceptron\n",
    "from sklearn.linear_model import Perceptron\n",
    "\n",
    "# MLPClassifier\n",
    "from sklearn.neural_network import MLPClassifier\n",
    "##################################################################################################\n",
    "\n",
    "# XGBoost\n",
    "import xgboost as xgb    # 설치 conda install -c anaconda py-xgboost\n",
    "from xgboost import XGBClassifier, XGBRegressor # wrapping class\n",
    "from xgboost import plot_importance, plot_tree\n",
    "\n",
    "# LightGBM\n",
    "from lightgbm import LGBMClassifier, LGBMRegressor\n",
    "from lightgbm import plot_importance, plot_tree, plot_metric\n",
    "\n",
    "# Graphviz\n",
    "from sklearn.tree import export_graphviz\n",
    "import graphviz\n",
    "\n",
    "##### 통계적 접근\n",
    "from scipy import stats\n",
    "\n",
    "# 통계 모델\n",
    "import statsmodels.api as sm\n",
    "\n",
    "# 학습한 모델 저장\n",
    "import pickle, joblib\n",
    "\n",
    "# 야후 파이낸스\n",
    "from pandas_datareader import data as pdr\n",
    "import yfinance as yf"
   ]
  },
  {
   "cell_type": "code",
   "execution_count": 10,
   "metadata": {},
   "outputs": [
    {
     "name": "stdout",
     "output_type": "stream",
     "text": [
      "[*********************100%***********************]  1 of 1 completed\n"
     ]
    },
    {
     "data": {
      "text/html": [
       "<div>\n",
       "<style scoped>\n",
       "    .dataframe tbody tr th:only-of-type {\n",
       "        vertical-align: middle;\n",
       "    }\n",
       "\n",
       "    .dataframe tbody tr th {\n",
       "        vertical-align: top;\n",
       "    }\n",
       "\n",
       "    .dataframe thead th {\n",
       "        text-align: right;\n",
       "    }\n",
       "</style>\n",
       "<table border=\"1\" class=\"dataframe\">\n",
       "  <thead>\n",
       "    <tr style=\"text-align: right;\">\n",
       "      <th></th>\n",
       "      <th>Open</th>\n",
       "      <th>High</th>\n",
       "      <th>Low</th>\n",
       "      <th>Close</th>\n",
       "      <th>Adj Close</th>\n",
       "      <th>Volume</th>\n",
       "    </tr>\n",
       "    <tr>\n",
       "      <th>Date</th>\n",
       "      <th></th>\n",
       "      <th></th>\n",
       "      <th></th>\n",
       "      <th></th>\n",
       "      <th></th>\n",
       "      <th></th>\n",
       "    </tr>\n",
       "  </thead>\n",
       "  <tbody>\n",
       "    <tr>\n",
       "      <th>2021-01-04</th>\n",
       "      <td>158116.515625</td>\n",
       "      <td>158610.62500</td>\n",
       "      <td>154163.609375</td>\n",
       "      <td>156140.062500</td>\n",
       "      <td>156140.062500</td>\n",
       "      <td>154747</td>\n",
       "    </tr>\n",
       "    <tr>\n",
       "      <th>2021-01-05</th>\n",
       "      <td>155151.828125</td>\n",
       "      <td>157128.28125</td>\n",
       "      <td>153669.484375</td>\n",
       "      <td>156634.171875</td>\n",
       "      <td>156634.171875</td>\n",
       "      <td>170974</td>\n",
       "    </tr>\n",
       "    <tr>\n",
       "      <th>2021-01-06</th>\n",
       "      <td>158116.515625</td>\n",
       "      <td>159104.75000</td>\n",
       "      <td>155645.953125</td>\n",
       "      <td>156634.171875</td>\n",
       "      <td>156634.171875</td>\n",
       "      <td>149959</td>\n",
       "    </tr>\n",
       "    <tr>\n",
       "      <th>2021-01-07</th>\n",
       "      <td>156634.171875</td>\n",
       "      <td>157622.40625</td>\n",
       "      <td>155151.828125</td>\n",
       "      <td>155151.828125</td>\n",
       "      <td>155151.828125</td>\n",
       "      <td>141526</td>\n",
       "    </tr>\n",
       "    <tr>\n",
       "      <th>2021-01-08</th>\n",
       "      <td>156140.062500</td>\n",
       "      <td>160092.96875</td>\n",
       "      <td>153175.375000</td>\n",
       "      <td>158610.625000</td>\n",
       "      <td>158610.625000</td>\n",
       "      <td>288730</td>\n",
       "    </tr>\n",
       "  </tbody>\n",
       "</table>\n",
       "</div>"
      ],
      "text/plain": [
       "                     Open          High            Low          Close  \\\n",
       "Date                                                                    \n",
       "2021-01-04  158116.515625  158610.62500  154163.609375  156140.062500   \n",
       "2021-01-05  155151.828125  157128.28125  153669.484375  156634.171875   \n",
       "2021-01-06  158116.515625  159104.75000  155645.953125  156634.171875   \n",
       "2021-01-07  156634.171875  157622.40625  155151.828125  155151.828125   \n",
       "2021-01-08  156140.062500  160092.96875  153175.375000  158610.625000   \n",
       "\n",
       "                Adj Close  Volume  \n",
       "Date                               \n",
       "2021-01-04  156140.062500  154747  \n",
       "2021-01-05  156634.171875  170974  \n",
       "2021-01-06  156634.171875  149959  \n",
       "2021-01-07  155151.828125  141526  \n",
       "2021-01-08  158610.625000  288730  "
      ]
     },
     "execution_count": 10,
     "metadata": {},
     "output_type": "execute_result"
    }
   ],
   "source": [
    "yf.pdr_override()\n",
    "\n",
    "\n",
    "studio = pdr.get_data_yahoo('352820.KS', start='2021-01-02')\n",
    "studio.head()"
   ]
  },
  {
   "cell_type": "code",
   "execution_count": 16,
   "metadata": {},
   "outputs": [],
   "source": [
    "tmp_studio=studio.drop(columns='Volume')"
   ]
  },
  {
   "cell_type": "code",
   "execution_count": 18,
   "metadata": {},
   "outputs": [
    {
     "data": {
      "text/html": [
       "<div>\n",
       "<style scoped>\n",
       "    .dataframe tbody tr th:only-of-type {\n",
       "        vertical-align: middle;\n",
       "    }\n",
       "\n",
       "    .dataframe tbody tr th {\n",
       "        vertical-align: top;\n",
       "    }\n",
       "\n",
       "    .dataframe thead th {\n",
       "        text-align: right;\n",
       "    }\n",
       "</style>\n",
       "<table border=\"1\" class=\"dataframe\">\n",
       "  <thead>\n",
       "    <tr style=\"text-align: right;\">\n",
       "      <th></th>\n",
       "      <th>Open</th>\n",
       "      <th>High</th>\n",
       "      <th>Low</th>\n",
       "      <th>Close</th>\n",
       "      <th>Adj Close</th>\n",
       "    </tr>\n",
       "    <tr>\n",
       "      <th>Date</th>\n",
       "      <th></th>\n",
       "      <th></th>\n",
       "      <th></th>\n",
       "      <th></th>\n",
       "      <th></th>\n",
       "    </tr>\n",
       "  </thead>\n",
       "  <tbody>\n",
       "    <tr>\n",
       "      <th>2021-01-04</th>\n",
       "      <td>158116.515625</td>\n",
       "      <td>158610.625000</td>\n",
       "      <td>154163.609375</td>\n",
       "      <td>156140.062500</td>\n",
       "      <td>156140.062500</td>\n",
       "    </tr>\n",
       "    <tr>\n",
       "      <th>2021-01-05</th>\n",
       "      <td>155151.828125</td>\n",
       "      <td>157128.281250</td>\n",
       "      <td>153669.484375</td>\n",
       "      <td>156634.171875</td>\n",
       "      <td>156634.171875</td>\n",
       "    </tr>\n",
       "    <tr>\n",
       "      <th>2021-01-06</th>\n",
       "      <td>158116.515625</td>\n",
       "      <td>159104.750000</td>\n",
       "      <td>155645.953125</td>\n",
       "      <td>156634.171875</td>\n",
       "      <td>156634.171875</td>\n",
       "    </tr>\n",
       "    <tr>\n",
       "      <th>2021-01-07</th>\n",
       "      <td>156634.171875</td>\n",
       "      <td>157622.406250</td>\n",
       "      <td>155151.828125</td>\n",
       "      <td>155151.828125</td>\n",
       "      <td>155151.828125</td>\n",
       "    </tr>\n",
       "    <tr>\n",
       "      <th>2021-01-08</th>\n",
       "      <td>156140.062500</td>\n",
       "      <td>160092.968750</td>\n",
       "      <td>153175.375000</td>\n",
       "      <td>158610.625000</td>\n",
       "      <td>158610.625000</td>\n",
       "    </tr>\n",
       "    <tr>\n",
       "      <th>2021-01-11</th>\n",
       "      <td>160092.968750</td>\n",
       "      <td>160587.093750</td>\n",
       "      <td>152187.140625</td>\n",
       "      <td>152681.265625</td>\n",
       "      <td>152681.265625</td>\n",
       "    </tr>\n",
       "    <tr>\n",
       "      <th>2021-01-12</th>\n",
       "      <td>152681.265625</td>\n",
       "      <td>155151.828125</td>\n",
       "      <td>148234.234375</td>\n",
       "      <td>151693.031250</td>\n",
       "      <td>151693.031250</td>\n",
       "    </tr>\n",
       "    <tr>\n",
       "      <th>2021-01-13</th>\n",
       "      <td>151693.031250</td>\n",
       "      <td>177881.078125</td>\n",
       "      <td>151198.921875</td>\n",
       "      <td>166516.453125</td>\n",
       "      <td>166516.453125</td>\n",
       "    </tr>\n",
       "    <tr>\n",
       "      <th>2021-01-14</th>\n",
       "      <td>164540.000000</td>\n",
       "      <td>168492.906250</td>\n",
       "      <td>161575.312500</td>\n",
       "      <td>164045.890625</td>\n",
       "      <td>164045.890625</td>\n",
       "    </tr>\n",
       "    <tr>\n",
       "      <th>2021-01-15</th>\n",
       "      <td>159104.750000</td>\n",
       "      <td>160587.093750</td>\n",
       "      <td>155151.828125</td>\n",
       "      <td>155151.828125</td>\n",
       "      <td>155151.828125</td>\n",
       "    </tr>\n",
       "  </tbody>\n",
       "</table>\n",
       "</div>"
      ],
      "text/plain": [
       "                     Open           High            Low          Close  \\\n",
       "Date                                                                     \n",
       "2021-01-04  158116.515625  158610.625000  154163.609375  156140.062500   \n",
       "2021-01-05  155151.828125  157128.281250  153669.484375  156634.171875   \n",
       "2021-01-06  158116.515625  159104.750000  155645.953125  156634.171875   \n",
       "2021-01-07  156634.171875  157622.406250  155151.828125  155151.828125   \n",
       "2021-01-08  156140.062500  160092.968750  153175.375000  158610.625000   \n",
       "2021-01-11  160092.968750  160587.093750  152187.140625  152681.265625   \n",
       "2021-01-12  152681.265625  155151.828125  148234.234375  151693.031250   \n",
       "2021-01-13  151693.031250  177881.078125  151198.921875  166516.453125   \n",
       "2021-01-14  164540.000000  168492.906250  161575.312500  164045.890625   \n",
       "2021-01-15  159104.750000  160587.093750  155151.828125  155151.828125   \n",
       "\n",
       "                Adj Close  \n",
       "Date                       \n",
       "2021-01-04  156140.062500  \n",
       "2021-01-05  156634.171875  \n",
       "2021-01-06  156634.171875  \n",
       "2021-01-07  155151.828125  \n",
       "2021-01-08  158610.625000  \n",
       "2021-01-11  152681.265625  \n",
       "2021-01-12  151693.031250  \n",
       "2021-01-13  166516.453125  \n",
       "2021-01-14  164045.890625  \n",
       "2021-01-15  155151.828125  "
      ]
     },
     "execution_count": 18,
     "metadata": {},
     "output_type": "execute_result"
    }
   ],
   "source": [
    "tmp_studio.head(10)"
   ]
  },
  {
   "cell_type": "code",
   "execution_count": 21,
   "metadata": {},
   "outputs": [
    {
     "name": "stdout",
     "output_type": "stream",
     "text": [
      "<class 'pandas.core.frame.DataFrame'>\n",
      "DatetimeIndex: 155 entries, 2021-01-04 to 2021-08-13\n",
      "Data columns (total 5 columns):\n",
      " #   Column     Non-Null Count  Dtype  \n",
      "---  ------     --------------  -----  \n",
      " 0   Open       155 non-null    float64\n",
      " 1   High       155 non-null    float64\n",
      " 2   Low        155 non-null    float64\n",
      " 3   Close      155 non-null    float64\n",
      " 4   Adj Close  155 non-null    float64\n",
      "dtypes: float64(5)\n",
      "memory usage: 12.3 KB\n"
     ]
    }
   ],
   "source": [
    "tmp_studio.info()"
   ]
  },
  {
   "cell_type": "code",
   "execution_count": 22,
   "metadata": {},
   "outputs": [
    {
     "data": {
      "text/plain": [
       "DatetimeIndex(['2021-01-04', '2021-01-05', '2021-01-06', '2021-01-07',\n",
       "               '2021-01-08', '2021-01-11', '2021-01-12', '2021-01-13',\n",
       "               '2021-01-14', '2021-01-15',\n",
       "               ...\n",
       "               '2021-08-02', '2021-08-03', '2021-08-04', '2021-08-05',\n",
       "               '2021-08-06', '2021-08-09', '2021-08-10', '2021-08-11',\n",
       "               '2021-08-12', '2021-08-13'],\n",
       "              dtype='datetime64[ns]', name='Date', length=155, freq=None)"
      ]
     },
     "execution_count": 22,
     "metadata": {},
     "output_type": "execute_result"
    }
   ],
   "source": [
    "tmp_studio.index"
   ]
  },
  {
   "cell_type": "code",
   "execution_count": 33,
   "metadata": {},
   "outputs": [
    {
     "name": "stderr",
     "output_type": "stream",
     "text": [
      "No handles with labels found to put in legend.\n"
     ]
    },
    {
     "ename": "AttributeError",
     "evalue": "module 'matplotlib.pyplot' has no attribute 'size'",
     "output_type": "error",
     "traceback": [
      "\u001b[1;31m---------------------------------------------------------------------------\u001b[0m",
      "\u001b[1;31mAttributeError\u001b[0m                            Traceback (most recent call last)",
      "\u001b[1;32m<ipython-input-33-1a74f2274c7b>\u001b[0m in \u001b[0;36m<module>\u001b[1;34m\u001b[0m\n\u001b[0;32m      1\u001b[0m \u001b[0mplt\u001b[0m\u001b[1;33m.\u001b[0m\u001b[0mplot\u001b[0m\u001b[1;33m(\u001b[0m\u001b[0mtmp_studio\u001b[0m\u001b[1;33m.\u001b[0m\u001b[0mindex\u001b[0m\u001b[1;33m,\u001b[0m \u001b[0mtmp_studio\u001b[0m\u001b[1;33m[\u001b[0m\u001b[1;33m[\u001b[0m\u001b[1;34m\"Open\"\u001b[0m\u001b[1;33m,\u001b[0m \u001b[1;34m\"High\"\u001b[0m\u001b[1;33m,\u001b[0m \u001b[1;34m\"Low\"\u001b[0m\u001b[1;33m,\u001b[0m \u001b[1;34m\"Close\"\u001b[0m\u001b[1;33m]\u001b[0m\u001b[1;33m]\u001b[0m\u001b[1;33m)\u001b[0m\u001b[1;33m\u001b[0m\u001b[1;33m\u001b[0m\u001b[0m\n\u001b[0;32m      2\u001b[0m \u001b[0mplt\u001b[0m\u001b[1;33m.\u001b[0m\u001b[0mlegend\u001b[0m\u001b[1;33m(\u001b[0m\u001b[0mloc\u001b[0m\u001b[1;33m=\u001b[0m\u001b[1;34m\"best\"\u001b[0m\u001b[1;33m)\u001b[0m\u001b[1;33m\u001b[0m\u001b[1;33m\u001b[0m\u001b[0m\n\u001b[1;32m----> 3\u001b[1;33m \u001b[0mplt\u001b[0m\u001b[1;33m.\u001b[0m\u001b[0msize\u001b[0m\u001b[1;33m(\u001b[0m\u001b[1;36m10\u001b[0m\u001b[1;33m,\u001b[0m\u001b[1;36m5\u001b[0m\u001b[1;33m)\u001b[0m\u001b[1;33m\u001b[0m\u001b[1;33m\u001b[0m\u001b[0m\n\u001b[0m",
      "\u001b[1;31mAttributeError\u001b[0m: module 'matplotlib.pyplot' has no attribute 'size'"
     ]
    },
    {
     "data": {
      "image/png": "[encoded data removed]",
      "text/plain": [
       "<Figure size 432x288 with 1 Axes>"
      ]
     },
     "metadata": {
      "needs_background": "light"
     },
     "output_type": "display_data"
    }
   ],
   "source": [
    "plt.plot(tmp_studio.index, tmp_studio[[\"Open\", \"High\", \"Low\", \"Close\"]])\n",
    "plt.legend(loc=\"best\")\n"
   ]
  },
  {
   "cell_type": "code",
   "execution_count": 34,
   "metadata": {},
   "outputs": [
    {
     "data": {
      "text/plain": [
       "Date\n",
       "2021-01-04         NaN\n",
       "2021-01-05    0.316453\n",
       "2021-01-06    0.000000\n",
       "2021-01-07   -0.946373\n",
       "2021-01-08    2.229298\n",
       "Name: Close, dtype: float64"
      ]
     },
     "execution_count": 34,
     "metadata": {},
     "output_type": "execute_result"
    }
   ],
   "source": [
    "# 종가 일간 변동률\n",
    "studio_npc= (studio[\"Close\"]-studio[\"Close\"].shift(1))/studio[\"Close\"].shift(1)*100\n",
    "studio_npc.head()"
   ]
  },
  {
   "cell_type": "code",
   "execution_count": 35,
   "metadata": {},
   "outputs": [],
   "source": [
    "studio_npc.iloc[0]=0"
   ]
  },
  {
   "cell_type": "code",
   "execution_count": 38,
   "metadata": {},
   "outputs": [
    {
     "data": {
      "image/png": "[encoded data removed]",
      "text/plain": [
       "<Figure size 432x288 with 1 Axes>"
      ]
     },
     "metadata": {
      "needs_background": "light"
     },
     "output_type": "display_data"
    }
   ],
   "source": [
    "# 종가 변동률 히스토그램\n",
    "plt.hist(studio_npc, bins=28)\n",
    "plt.grid(True)\n",
    "plt.show()"
   ]
  },
  {
   "cell_type": "code",
   "execution_count": 39,
   "metadata": {},
   "outputs": [
    {
     "data": {
      "text/plain": [
       "Date\n",
       "2021-01-04     0.000000\n",
       "2021-01-05     0.316453\n",
       "2021-01-06     0.316453\n",
       "2021-01-07    -0.629920\n",
       "2021-01-08     1.599378\n",
       "                ...    \n",
       "2021-08-09    76.673246\n",
       "2021-08-10    78.458961\n",
       "2021-08-11    74.471720\n",
       "2021-08-12    75.302285\n",
       "2021-08-13    73.819583\n",
       "Name: Close, Length: 155, dtype: float64"
      ]
     },
     "execution_count": 39,
     "metadata": {},
     "output_type": "execute_result"
    }
   ],
   "source": [
    "# 종가 변동률 누적합\n",
    "studio_npc.cumsum()"
   ]
  },
  {
   "cell_type": "code",
   "execution_count": null,
   "metadata": {},
   "outputs": [],
   "source": [
    "# Maximum Drawdown(최대손실 낙폭)\n",
    "# 특정 기간에 발생한 최고점에서 최저점까지의 가장 큰 손실\n",
    "# rolling() \n"
   ]
  }
 ],
 "metadata": {
  "kernelspec": {
   "display_name": "Python 3",
   "language": "python",
   "name": "python3"
  },
  "language_info": {
   "codemirror_mode": {
    "name": "ipython",
    "version": 3
   },
   "file_extension": ".py",
   "mimetype": "text/x-python",
   "name": "python",
   "nbconvert_exporter": "python",
   "pygments_lexer": "ipython3",
   "version": "3.8.5"
  }
 },
 "nbformat": 4,
 "nbformat_minor": 4
}
